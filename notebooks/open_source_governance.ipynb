{
 "cells": [
  {
   "cell_type": "markdown",
   "metadata": {},
   "source": [
    "# Open source governance and leadership\n",
    "**Open-source governance and leadership: governance models, ensuring long-term sustainability, onboarding and offboarding**"
   ]
  },
  {
   "cell_type": "markdown",
   "metadata": {},
   "source": [
    "## Introduction\n",
    "\n",
    "Hi! I'm Carol Willing. My governance experience and leadership includes:\n",
    "- Educational Non-Profit\n",
    "- Python Software Foundation Board\n",
    "- Python Steering Council\n",
    "- Project Jupyter Steering Council\n",
    "- Quansight Labs Board member"
   ]
  },
  {
   "cell_type": "markdown",
   "metadata": {},
   "source": [
    "## When does open-source governance matter most?"
   ]
  },
  {
   "cell_type": "markdown",
   "metadata": {},
   "source": [
    "- Changes in organization\n",
    "    - Guido Retirement\n",
    "    - Node JS\n",
    "- Changes in world / unforeseen circumstances\n",
    "    - Covid 19\n",
    "        - Conferences\n",
    "    - Natural disasters\n",
    "        - Call upon resources\n",
    "- Healthy governance provides confidence during these times\n",
    "- Professionalism over self dealing\n",
    "- Carry out the mission of the open source project"
   ]
  },
  {
   "cell_type": "markdown",
   "metadata": {},
   "source": [
    "## What is open source?\n",
    "- Code and project level very little difference\n",
    "- Philosophy and motivation\n",
    "    - Free \n",
    "        - strong moral purpose\n",
    "        - free from any restrictions of use, reuse, and distribution\n",
    "        - freedom - driving force\n",
    "    - Open\n",
    "        - motivation is more practical\n",
    "        - innovation\n",
    "- Source: Vicky Brasseur"
   ]
  },
  {
   "cell_type": "markdown",
   "metadata": {},
   "source": [
    "## Why Open Source?\n",
    "- Carol Willing [Coding in a Safe Place](https://opensource.com/life/15/10/ghc-interview-carol-willing) __Open source opens doors. Our world benefits in so many ways from the contributions made to open source. It empowers us to solve real-world issues and gives us the tools to make a difference__.\n",
    "- Transparent code - reduces risk of use or vendor lock-in\n",
    "- Costs to end user: global growth and solutions\n",
    "- Internet - global connection and interconnections"
   ]
  },
  {
   "cell_type": "markdown",
   "metadata": {},
   "source": [
    "## Governance models - The Five Questions\n",
    "- Mission - Why?\n",
    "- Bylaws - How?\n",
    "- Leadership, Users, Contributors - Who?\n",
    "- Projects - What?\n",
    "- Meetings - When?\n",
    "- Decision making - one person, meritocracy Apache Foundation, Consensus"
   ]
  },
  {
   "cell_type": "markdown",
   "metadata": {},
   "source": [
    "## Forms of Governance\n",
    "- Large corporate foundations: 501c6 (Business leagues, chambers of commerce, real estate boards, etc, created for the improvement of business conditions)\n",
    "    - Linux / CNCF\n",
    "        - [ProPublica Nonprofit Explorer](https://projects.propublica.org/nonprofits/organizations/460503801) Linux  Form 990 Part VII Compensation information - 96.5M USD in Revenue FY Ending December 2018\n",
    "- 501c3 (Organizations for any of the following purposes: religious, educational, charitable, scientific, literary, testing for public safety, fostering national or international amateur sports competition (as long as it doesn’t provide athletic facilities or equipment), or the prevention of cruelty to children or animals)\n",
    "    - foundation: [PSF](https://projects.propublica.org/nonprofits/display_990/43594598/01_2020_prefixes_04-06%2F043594598_201812_990_2020012117048576) and other Languages 3.1M USD Revenue Ending December 2018\n",
    "    - [NumFocus 2.3M USD ](https://projects.propublica.org/nonprofits/display_990/454547709/01_2020_prefixes_45-45%2F454547709_201812_990_2020013117092813) FY ending Dec 2018\n",
    "    - [Apache Foundation 2.7M USD](https://projects.propublica.org/nonprofits/organizations/470825376/201900719349301005/full)\n",
    "- Fiscal sponsorship\n",
    "    - Software Freedom Conservancy [2.6M](https://projects.propublica.org/nonprofits/display_990/412203632/03_2019_prefixes_39-44%2F412203632_201802_990_2019032116184626) FY ending Feb 2018\n",
    "- Founder/BDFL\n",
    "- Selection of the best form --> from the 5 questions"
   ]
  },
  {
   "cell_type": "markdown",
   "metadata": {},
   "source": [
    "## Ensuring long-term sustainability\n",
    "- Fundraising\n",
    "    - Paid staff - continuity\n",
    "    - all volunteer - life responsibilities\n",
    "- Community building\n",
    "- Project usage\n",
    "- Reevaluating periodically whether the mission and strategic efforts still meet the community's needs"
   ]
  },
  {
   "cell_type": "markdown",
   "metadata": {},
   "source": [
    "## Governance best practices\n",
    "- https://boardsource.org/ https://boardsource.org/6-essential-ingredients-become-better-board/\n",
    "- know the mission and bylaws\n",
    "- most projects are guided by their mission\n",
    "- code is a small part; people are the bigger part\n",
    "- Three hats but only one at a time"
   ]
  },
  {
   "cell_type": "markdown",
   "metadata": {},
   "source": [
    "## Growing leaders\n",
    "- Onboarding new leaders\n",
    "- Onboarding leader guide\n",
    "- Identifying and mentoring future leaders\n",
    "- Incremental responsibility"
   ]
  },
  {
   "cell_type": "markdown",
   "metadata": {},
   "source": [
    "## Offboarding people graciously\n",
    "- Ebb and flow of contribution\n",
    "- Burnout\n",
    "- Roles\n",
    "- Gracefully step down\n",
    "    - check in yearly\n",
    "    - miss x meetings, ask if things are ok\n",
    "    - be direct \"I've noticed...\""
   ]
  },
  {
   "cell_type": "markdown",
   "metadata": {},
   "source": [
    "## Advanced governance topics\n",
    "- Non profit best practices\n",
    "- Life Cycle of governance maturity"
   ]
  },
  {
   "cell_type": "markdown",
   "metadata": {},
   "source": [
    "## Conclusion and Impact\n",
    "- Matters"
   ]
  },
  {
   "cell_type": "markdown",
   "metadata": {},
   "source": [
    "## Learning more about governance"
   ]
  },
  {
   "cell_type": "markdown",
   "metadata": {},
   "source": [
    "### Projects\n",
    "- Jupyter\n",
    "- Scikit\n",
    "- Pandas\n",
    "- nteract\n",
    "- R\n",
    "- Julia\n",
    "- Python\n",
    "- Rust\n",
    "- Kubernetes\n",
    "- node"
   ]
  },
  {
   "cell_type": "markdown",
   "metadata": {},
   "source": [
    "### Resources \n",
    "- Nadia Eghbal\n",
    "- Brett Cannon\n",
    "- Dustin Ingram\n",
    "- Deb Nicholson\n",
    "- Vicki Brasseur\n",
    "- Shauna Gordon-McKeon\n",
    "- Ashley Williams\n",
    "- Mozilla - Abby Cabunoc\n",
    "- Tracy Teal - Carpentries\n",
    "- OpenHatch\n",
    "    - https://campus.openhatch.org/ \n",
    "    - https://opensource.com/education/13/12/openhatch-brings-open-source-campus\n",
    "- [Open Source Guide: Leadership and Governance](http://opensource.guide/leadership-and-governance/)\n",
    "- Karl Fogel\n",
    "- Jono Bacon\n",
    "- Karen Sandler\n",
    "- Carol Willing [Coding in a Safe Place](https://opensource.com/life/15/10/ghc-interview-carol-willing) __Open source opens doors. Our world benefits in so many ways from the contributions made to open source. It empowers us to solve real-world issues and gives us the tools to make a difference__."
   ]
  },
  {
   "cell_type": "code",
   "execution_count": null,
   "metadata": {},
   "outputs": [],
   "source": []
  }
 ],
 "metadata": {
  "kernelspec": {
   "display_name": "Python 3",
   "language": "python",
   "name": "python3"
  },
  "language_info": {
   "codemirror_mode": {
    "name": "ipython",
    "version": 3
   },
   "file_extension": ".py",
   "mimetype": "text/x-python",
   "name": "python",
   "nbconvert_exporter": "python",
   "pygments_lexer": "ipython3",
   "version": "3.8.5"
  }
 },
 "nbformat": 4,
 "nbformat_minor": 4
}
