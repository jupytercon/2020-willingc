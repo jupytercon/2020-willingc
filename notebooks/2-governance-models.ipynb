{
 "cells": [
  {
   "cell_type": "markdown",
   "metadata": {},
   "source": [
    "# Governance: questions to determine best form"
   ]
  },
  {
   "cell_type": "markdown",
   "metadata": {},
   "source": [
    "## Governance models - The Five Questions\n",
    "- Mission - Why?\n",
    "- Bylaws - How?\n",
    "- Leadership, Users, Contributors - Who?\n",
    "- Projects - What?\n",
    "- Meetings - When?\n",
    "- Decision making - one person, meritocracy Apache Foundation, Consensus"
   ]
  },
  {
   "cell_type": "markdown",
   "metadata": {},
   "source": [
    "## Forms of Governance\n",
    "- Large corporate foundations: 501c6 (Business leagues, chambers of commerce, real estate boards, etc, created for the improvement of business conditions)\n",
    "    - Linux / CNCF\n",
    "        - [ProPublica Nonprofit Explorer](https://projects.propublica.org/nonprofits/organizations/460503801) Linux  Form 990 Part VII Compensation information - 96.5M USD in Revenue FY Ending December 2018\n",
    "- 501c3 (Organizations for any of the following purposes: religious, educational, charitable, scientific, literary, testing for public safety, fostering national or international amateur sports competition (as long as it doesn’t provide athletic facilities or equipment), or the prevention of cruelty to children or animals)\n",
    "    - foundation: [PSF](https://projects.propublica.org/nonprofits/display_990/43594598/01_2020_prefixes_04-06%2F043594598_201812_990_2020012117048576) and other Languages 3.1M USD Revenue Ending December 2018\n",
    "    - [NumFocus 2.3M USD ](https://projects.propublica.org/nonprofits/display_990/454547709/01_2020_prefixes_45-45%2F454547709_201812_990_2020013117092813) FY ending Dec 2018\n",
    "    - [Apache Foundation 2.7M USD](https://projects.propublica.org/nonprofits/organizations/470825376/201900719349301005/full)\n",
    "- Fiscal sponsorship\n",
    "    - Software Freedom Conservancy [2.6M](https://projects.propublica.org/nonprofits/display_990/412203632/03_2019_prefixes_39-44%2F412203632_201802_990_2019032116184626) FY ending Feb 2018\n",
    "- Founder/BDFL\n",
    "- Selection of the best form --> from the 5 questions"
   ]
  }
 ],
 "metadata": {
  "kernelspec": {
   "display_name": "Python 3",
   "language": "python",
   "name": "python3"
  },
  "language_info": {
   "codemirror_mode": {
    "name": "ipython",
    "version": 3
   },
   "file_extension": ".py",
   "mimetype": "text/x-python",
   "name": "python",
   "nbconvert_exporter": "python",
   "pygments_lexer": "ipython3",
   "version": "3.8.5"
  }
 },
 "nbformat": 4,
 "nbformat_minor": 4
}
