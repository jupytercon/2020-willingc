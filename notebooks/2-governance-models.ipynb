{
 "cells": [
  {
   "cell_type": "markdown",
   "metadata": {},
   "source": [
    "# Governance: Choosing an effective model"
   ]
  },
  {
   "cell_type": "markdown",
   "metadata": {},
   "source": [
    "## The five key questions for governance"
   ]
  },
  {
   "cell_type": "markdown",
   "metadata": {},
   "source": [
    "### Why?\n",
    "\n",
    "#### The need for a governance model\n",
    "\n",
    "First and foremost, a project's **mission**, the strategic focus of people's actions, will determine why governance is helpful. A project's **mission** typically reflects the vision and high level goals of the project.\n",
    "\n",
    "Specifically, a mission may include items including:\n",
    "- Often, one element of a mission is to *protect the trademark and intellectual property* of a language and software libraries.\n",
    "- Another common element of many missions is to *grow the adoption and usage* of the project.\n"
   ]
  },
  {
   "cell_type": "markdown",
   "metadata": {},
   "source": [
    "### How?\n",
    "\n",
    "#### Rules of governance\n",
    "\n",
    "Governing organizations are run under a set of rules, often called **bylaws**."
   ]
  },
  {
   "cell_type": "markdown",
   "metadata": {},
   "source": [
    "### Who?\n",
    "\n",
    "#### People\n",
    "\n",
    "Leadership, Users, Contributors"
   ]
  },
  {
   "cell_type": "markdown",
   "metadata": {},
   "source": [
    "### What?\n",
    "\n",
    "#### Projects and efforts\n"
   ]
  },
  {
   "cell_type": "markdown",
   "metadata": {},
   "source": [
    "### When?\n",
    "#### - Meetings"
   ]
  },
  {
   "cell_type": "markdown",
   "metadata": {},
   "source": [
    "## Governance enables decision making\n",
    "\n",
    "\n",
    "Why, How, Who, what, when => Framework for decision making\n",
    "- one person, meritocracy Apache Foundation, Consensus"
   ]
  },
  {
   "cell_type": "markdown",
   "metadata": {},
   "source": [
    "## Forms of Governance"
   ]
  },
  {
   "cell_type": "markdown",
   "metadata": {},
   "source": [
    "- Large corporate foundations: 501c6 (Business leagues, chambers of commerce, real estate boards, etc, created for the improvement of business conditions)\n",
    "    - Linux / CNCF\n",
    "        - [ProPublica Nonprofit Explorer](https://projects.propublica.org/nonprofits/organizations/460503801) Linux  Form 990 Part VII Compensation information - 96.5M USD in Revenue FY Ending December 2018"
   ]
  },
  {
   "cell_type": "markdown",
   "metadata": {},
   "source": [
    "- 501c3 (Organizations for any of the following purposes: religious, educational, charitable, scientific, literary, testing for public safety, fostering national or international amateur sports competition (as long as it doesn’t provide athletic facilities or equipment), or the prevention of cruelty to children or animals)\n",
    "    - foundation: [PSF](https://projects.propublica.org/nonprofits/display_990/43594598/01_2020_prefixes_04-06%2F043594598_201812_990_2020012117048576) and other Languages 3.1M USD Revenue Ending December 2018\n",
    "    - [NumFocus 2.3M USD ](https://projects.propublica.org/nonprofits/display_990/454547709/01_2020_prefixes_45-45%2F454547709_201812_990_2020013117092813) FY ending Dec 2018\n",
    "    - [Apache Foundation 2.7M USD](https://projects.propublica.org/nonprofits/organizations/470825376/201900719349301005/full)"
   ]
  },
  {
   "cell_type": "markdown",
   "metadata": {},
   "source": [
    "- Fiscal sponsorship\n",
    "    - Software Freedom Conservancy [2.6M](https://projects.propublica.org/nonprofits/display_990/412203632/03_2019_prefixes_39-44%2F412203632_201802_990_2019032116184626) FY ending Feb 2018"
   ]
  },
  {
   "cell_type": "markdown",
   "metadata": {},
   "source": [
    "- Founder/BDFL"
   ]
  },
  {
   "cell_type": "markdown",
   "metadata": {},
   "source": [
    "- Selection of the best form --> from the 5 questions"
   ]
  },
  {
   "cell_type": "markdown",
   "metadata": {},
   "source": [
    "## Takeaways: Choosing a Governance Model\n",
    "\n",
    "- Members of the organization should determine answers for the five key questions for governance.\n",
    "- Decision making \n",
    "- Answers to the questions influence the governance model"
   ]
  },
  {
   "cell_type": "code",
   "execution_count": null,
   "metadata": {},
   "outputs": [],
   "source": []
  }
 ],
 "metadata": {
  "kernelspec": {
   "display_name": "Python 3",
   "language": "python",
   "name": "python3"
  },
  "language_info": {
   "codemirror_mode": {
    "name": "ipython",
    "version": 3
   },
   "file_extension": ".py",
   "mimetype": "text/x-python",
   "name": "python",
   "nbconvert_exporter": "python",
   "pygments_lexer": "ipython3",
   "version": "3.8.5"
  }
 },
 "nbformat": 4,
 "nbformat_minor": 4
}
