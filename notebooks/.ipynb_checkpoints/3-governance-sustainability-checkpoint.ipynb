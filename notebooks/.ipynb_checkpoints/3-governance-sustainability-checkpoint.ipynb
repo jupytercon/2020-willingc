{
 "cells": [
  {
   "cell_type": "markdown",
   "metadata": {},
   "source": [
    "# Governance: sustainability"
   ]
  },
  {
   "cell_type": "markdown",
   "metadata": {},
   "source": [
    "## Ensuring long-term sustainability\n",
    "- Fundraising\n",
    "    - Paid staff - continuity\n",
    "    - all volunteer - life responsibilities\n",
    "- Community building\n",
    "- Project usage\n",
    "- Reevaluating periodically whether the mission and strategic efforts still meet the community's needs"
   ]
  },
  {
   "cell_type": "markdown",
   "metadata": {},
   "source": [
    "## Governance best practices\n",
    "- https://boardsource.org/ https://boardsource.org/6-essential-ingredients-become-better-board/\n",
    "- know the mission and bylaws\n",
    "- most projects are guided by their mission\n",
    "- code is a small part; people are the bigger part\n",
    "- Three hats but only one at a time"
   ]
  },
  {
   "cell_type": "code",
   "execution_count": null,
   "metadata": {},
   "outputs": [],
   "source": []
  }
 ],
 "metadata": {
  "kernelspec": {
   "display_name": "Python 3",
   "language": "python",
   "name": "python3"
  },
  "language_info": {
   "codemirror_mode": {
    "name": "ipython",
    "version": 3
   },
   "file_extension": ".py",
   "mimetype": "text/x-python",
   "name": "python",
   "nbconvert_exporter": "python",
   "pygments_lexer": "ipython3",
   "version": "3.8.5"
  }
 },
 "nbformat": 4,
 "nbformat_minor": 4
}
