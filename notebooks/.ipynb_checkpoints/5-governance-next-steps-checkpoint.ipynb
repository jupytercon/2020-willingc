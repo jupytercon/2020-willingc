{
 "cells": [
  {
   "cell_type": "markdown",
   "metadata": {},
   "source": [
    "# Governance: Next Steps"
   ]
  },
  {
   "cell_type": "markdown",
   "metadata": {},
   "source": [
    "## Advanced governance topics\n",
    "- Non profit best practices\n",
    "- Life Cycle of governance maturity"
   ]
  },
  {
   "cell_type": "markdown",
   "metadata": {},
   "source": [
    "## Conclusion and Impact\n",
    "- Matters"
   ]
  },
  {
   "cell_type": "markdown",
   "metadata": {},
   "source": [
    "## Learning more about governance"
   ]
  },
  {
   "cell_type": "markdown",
   "metadata": {},
   "source": [
    "### Projects\n",
    "- Jupyter\n",
    "- Scikit\n",
    "- Pandas\n",
    "- nteract\n",
    "- R\n",
    "- Julia\n",
    "- Python\n",
    "- Rust\n",
    "- Kubernetes\n",
    "- node"
   ]
  },
  {
   "cell_type": "markdown",
   "metadata": {},
   "source": [
    "### Resources \n",
    "- Nadia Eghbal\n",
    "- Brett Cannon\n",
    "- Dustin Ingram\n",
    "- Deb Nicholson\n",
    "- Vicki Brasseur\n",
    "- Shauna Gordon-McKeon\n",
    "- Ashley Williams\n",
    "- Mozilla - Abby Cabunoc\n",
    "- Tracy Teal - Carpentries\n",
    "- OpenHatch\n",
    "    - https://campus.openhatch.org/ \n",
    "    - https://opensource.com/education/13/12/openhatch-brings-open-source-campus\n",
    "- [Open Source Guide: Leadership and Governance](http://opensource.guide/leadership-and-governance/)\n",
    "- Karl Fogel\n",
    "- Jono Bacon\n",
    "- Karen Sandler\n",
    "- Carol Willing [Coding in a Safe Place](https://opensource.com/life/15/10/ghc-interview-carol-willing) __Open source opens doors. Our world benefits in so many ways from the contributions made to open source. It empowers us to solve real-world issues and gives us the tools to make a difference__."
   ]
  },
  {
   "cell_type": "code",
   "execution_count": null,
   "metadata": {},
   "outputs": [],
   "source": []
  }
 ],
 "metadata": {
  "kernelspec": {
   "display_name": "Python 3",
   "language": "python",
   "name": "python3"
  },
  "language_info": {
   "codemirror_mode": {
    "name": "ipython",
    "version": 3
   },
   "file_extension": ".py",
   "mimetype": "text/x-python",
   "name": "python",
   "nbconvert_exporter": "python",
   "pygments_lexer": "ipython3",
   "version": "3.8.5"
  }
 },
 "nbformat": 4,
 "nbformat_minor": 4
}
