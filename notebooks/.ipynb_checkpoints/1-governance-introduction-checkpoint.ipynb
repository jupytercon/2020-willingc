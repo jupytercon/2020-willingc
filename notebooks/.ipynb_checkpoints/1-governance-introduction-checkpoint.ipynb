{
 "cells": [
  {
   "cell_type": "markdown",
   "metadata": {},
   "source": [
    "# Open source governance and leadership\n",
    "**Open-source governance and leadership: governance models, ensuring long-term sustainability, onboarding and offboarding**"
   ]
  },
  {
   "cell_type": "markdown",
   "metadata": {},
   "source": [
    "## 1 Introduction\n",
    "\n",
    "Hi! I'm **Carol Willing**. My governance experience and leadership includes:\n",
    "- Educational Non-Profit Board (experience outside of open source)\n",
    "- [Python Software Foundation Board](https://www.python.org/psf-landing/): 2015-2017\n",
    "- [Python Steering Council](https://www.python.org/dev/peps/pep-0013/): 2019-Present\n",
    "- [Project Jupyter Steering Council](https://jupyter.org/about): 2017-Present\n",
    "- [Quansight Labs](https://www.quansight.com/labs) Board member (experience in industry and open source): 2020-Present"
   ]
  },
  {
   "cell_type": "markdown",
   "metadata": {},
   "source": [
    "## 1.1 When does open-source governance matter most?"
   ]
  },
  {
   "cell_type": "markdown",
   "metadata": {},
   "source": [
    "**Changes in organization**\n",
    "- Guido vanRossum Python Retirement\n",
    "- Node JS governance conflict"
   ]
  },
  {
   "cell_type": "markdown",
   "metadata": {},
   "source": [
    "**Changes in world / unforeseen circumstances**\n",
    "- Covid 19\n",
    "    - Conferences\n",
    "    - Knowledge sharing\n",
    "- Natural disasters\n",
    "    - Call upon recovery resources\n",
    "    - Prediction and infrastructure"
   ]
  },
  {
   "cell_type": "markdown",
   "metadata": {},
   "source": [
    "**Stability through changes**\n",
    "- Healthy governance provides confidence during these times\n",
    "- Professionalism over self dealing\n",
    "- Carry out the mission of the open source project"
   ]
  },
  {
   "cell_type": "markdown",
   "metadata": {},
   "source": [
    "## 1.2 What is open source?\n",
    "\n",
    "Philosophy and motivation\n",
    "- Free \n",
    "    - strong moral purpose\n",
    "    - free from any restrictions of use, reuse, and distribution\n",
    "    - freedom - driving force\n",
    "- Open\n",
    "    - motivation is more practical\n",
    "    - innovation\n",
    "- From the perspective of the source code and the day-to-day project level, there is little difference between the two.\n",
    "\n",
    "*Source: Vicky Brasseur*"
   ]
  },
  {
   "cell_type": "markdown",
   "metadata": {},
   "source": [
    "## 1.3 Why Open Source?\n",
    "> __Open source opens doors. Our world benefits in so many ways from the contributions made to open source. It empowers us to solve real-world issues and gives us the tools to make a difference__. - Carol Willing, [Coding in a Safe Place](https://opensource.com/life/15/10/ghc-interview-carol-willing) \n",
    "- Transparent code: reduces risk of use or vendor lock-in\n",
    "- Costs: global growth and solutions\n",
    "- Internet infrastructure: global connection and interconnections"
   ]
  }
 ],
 "metadata": {
  "kernelspec": {
   "display_name": "Python 3",
   "language": "python",
   "name": "python3"
  },
  "language_info": {
   "codemirror_mode": {
    "name": "ipython",
    "version": 3
   },
   "file_extension": ".py",
   "mimetype": "text/x-python",
   "name": "python",
   "nbconvert_exporter": "python",
   "pygments_lexer": "ipython3",
   "version": "3.8.5"
  }
 },
 "nbformat": 4,
 "nbformat_minor": 4
}
