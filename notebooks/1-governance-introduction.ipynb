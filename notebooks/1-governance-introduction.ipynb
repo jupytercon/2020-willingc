{
 "cells": [
  {
   "cell_type": "markdown",
   "metadata": {},
   "source": [
    "# Open source governance and leadership\n",
    "**Open-source governance and leadership: governance models, ensuring long-term sustainability, onboarding and offboarding**"
   ]
  },
  {
   "cell_type": "markdown",
   "metadata": {},
   "source": [
    "## Introduction\n",
    "\n",
    "Hi! I'm Carol Willing. My governance experience and leadership includes:\n",
    "- Educational Non-Profit\n",
    "- Python Software Foundation Board\n",
    "- Python Steering Council\n",
    "- Project Jupyter Steering Council\n",
    "- Quansight Labs Board member"
   ]
  },
  {
   "cell_type": "markdown",
   "metadata": {},
   "source": [
    "## When does open-source governance matter most?"
   ]
  },
  {
   "cell_type": "markdown",
   "metadata": {},
   "source": [
    "- Changes in organization\n",
    "    - Guido Retirement\n",
    "    - Node JS\n",
    "- Changes in world / unforeseen circumstances\n",
    "    - Covid 19\n",
    "        - Conferences\n",
    "    - Natural disasters\n",
    "        - Call upon resources\n",
    "- Healthy governance provides confidence during these times\n",
    "- Professionalism over self dealing\n",
    "- Carry out the mission of the open source project"
   ]
  },
  {
   "cell_type": "markdown",
   "metadata": {},
   "source": [
    "## What is open source?\n",
    "- Code and project level very little difference\n",
    "- Philosophy and motivation\n",
    "    - Free \n",
    "        - strong moral purpose\n",
    "        - free from any restrictions of use, reuse, and distribution\n",
    "        - freedom - driving force\n",
    "    - Open\n",
    "        - motivation is more practical\n",
    "        - innovation\n",
    "- Source: Vicky Brasseur"
   ]
  },
  {
   "cell_type": "markdown",
   "metadata": {},
   "source": [
    "## Why Open Source?\n",
    "- Carol Willing [Coding in a Safe Place](https://opensource.com/life/15/10/ghc-interview-carol-willing) __Open source opens doors. Our world benefits in so many ways from the contributions made to open source. It empowers us to solve real-world issues and gives us the tools to make a difference__.\n",
    "- Transparent code - reduces risk of use or vendor lock-in\n",
    "- Costs to end user: global growth and solutions\n",
    "- Internet - global connection and interconnections"
   ]
  }
 ],
 "metadata": {
  "kernelspec": {
   "display_name": "Python 3",
   "language": "python",
   "name": "python3"
  },
  "language_info": {
   "codemirror_mode": {
    "name": "ipython",
    "version": 3
   },
   "file_extension": ".py",
   "mimetype": "text/x-python",
   "name": "python",
   "nbconvert_exporter": "python",
   "pygments_lexer": "ipython3",
   "version": "3.8.5"
  }
 },
 "nbformat": 4,
 "nbformat_minor": 4
}
