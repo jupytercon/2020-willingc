{
 "cells": [
  {
   "cell_type": "markdown",
   "metadata": {},
   "source": [
    "# 3 Governance: sustainability"
   ]
  },
  {
   "cell_type": "markdown",
   "metadata": {},
   "source": [
    "## 3.1 Ensuring long-term sustainability\n",
    "- Fundraising\n",
    "    - Paid staff - continuity\n",
    "    - all volunteer - life responsibilities\n",
    "- Community building\n",
    "- Project usage\n",
    "- Reevaluating periodically whether the mission and strategic efforts still meet the community's needs"
   ]
  },
  {
   "cell_type": "markdown",
   "metadata": {},
   "source": [
    "## 3.2 Governance best practices"
   ]
  },
  {
   "cell_type": "markdown",
   "metadata": {},
   "source": [
    "This document from the non-profit [BoardSource](https://boardsource.org) provides a good\n",
    "overview of effective governance and essential practices:\n",
    "\n",
    "![6 Essential Ingredients for Effective Governance](../images/Essential-Ingredients5.png) \n",
    "\n",
    "[*Source: Boardsource*]( https://boardsource.org/6-essential-ingredients-become-better-board/)\n",
    "\n"
   ]
  },
  {
   "cell_type": "markdown",
   "metadata": {},
   "source": [
    "Tips for leaders of open source projects and understanding goverance:\n",
    "- know the mission and bylaws\n",
    "- most projects are guided by their mission\n",
    "- code is a small part; people are the bigger part\n",
    "- Three hats but only one at a time"
   ]
  }
 ],
 "metadata": {
  "kernelspec": {
   "display_name": "Python 3",
   "language": "python",
   "name": "python3"
  },
  "language_info": {
   "codemirror_mode": {
    "name": "ipython",
    "version": 3
   },
   "file_extension": ".py",
   "mimetype": "text/x-python",
   "name": "python",
   "nbconvert_exporter": "python",
   "pygments_lexer": "ipython3",
   "version": "3.8.5"
  }
 },
 "nbformat": 4,
 "nbformat_minor": 4
}
