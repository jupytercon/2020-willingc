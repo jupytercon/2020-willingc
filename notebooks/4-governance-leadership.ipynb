{
 "cells": [
  {
   "cell_type": "markdown",
   "metadata": {},
   "source": [
    "# 4 Governance: leadership"
   ]
  },
  {
   "cell_type": "markdown",
   "metadata": {},
   "source": [
    "## 4.1 Growing leaders\n",
    "\n",
    "Key tasks that improve the growth of leaders\n",
    "- Take the time to onboard and provide training for new leaders\n",
    "- Create an onboarding new leaders guide\n",
    "- Identify and mentor future leaders\n",
    "- Provide ways for future leaders to gain incremental responsibility"
   ]
  },
  {
   "cell_type": "markdown",
   "metadata": {},
   "source": [
    "## 4.2 Offboarding people graciously\n",
    "\n",
    "Just as it is import to take the time to onboard leaders, it is also important\n",
    "to make sure that current leaders have a graceful off-ramp from their leadership goal.\n",
    "Some thoughts on important considerations:\n",
    "- Recognize the ebb and flow of contribution work especially times like releases where\n",
    "  there may be additional stress on leaders\n",
    "- Educate your community leaders to recognize the signs of burnout, provide resources for\n",
    "  self-care or assistance.\n",
    "- Have leaders understand their roles and where they can ask for help or assistance if\n",
    "  a leave of absence is necessary\n",
    "- Provide ways for leaders to gracefully step down\n",
    "    - check in yearly to see if leaders wish to continue their role\n",
    "    - if someone misses several meetings, ask how things are going with them. \n",
    "    - be direct and mention \"I've noticed...\""
   ]
  }
 ],
 "metadata": {
  "kernelspec": {
   "display_name": "Python 3",
   "language": "python",
   "name": "python3"
  },
  "language_info": {
   "codemirror_mode": {
    "name": "ipython",
    "version": 3
   },
   "file_extension": ".py",
   "mimetype": "text/x-python",
   "name": "python",
   "nbconvert_exporter": "python",
   "pygments_lexer": "ipython3",
   "version": "3.8.5"
  }
 },
 "nbformat": 4,
 "nbformat_minor": 4
}
