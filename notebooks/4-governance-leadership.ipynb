{
 "cells": [
  {
   "cell_type": "markdown",
   "metadata": {},
   "source": [
    "# Governance: leadership"
   ]
  },
  {
   "cell_type": "markdown",
   "metadata": {},
   "source": [
    "## Growing leaders\n",
    "- Onboarding new leaders\n",
    "- Onboarding leader guide\n",
    "- Identifying and mentoring future leaders\n",
    "- Incremental responsibility"
   ]
  },
  {
   "cell_type": "markdown",
   "metadata": {},
   "source": [
    "## Offboarding people graciously\n",
    "- Ebb and flow of contribution\n",
    "- Burnout\n",
    "- Roles\n",
    "- Gracefully step down\n",
    "    - check in yearly\n",
    "    - miss x meetings, ask if things are ok\n",
    "    - be direct \"I've noticed...\""
   ]
  },
  {
   "cell_type": "code",
   "execution_count": null,
   "metadata": {},
   "outputs": [],
   "source": []
  }
 ],
 "metadata": {
  "kernelspec": {
   "display_name": "Python 3",
   "language": "python",
   "name": "python3"
  },
  "language_info": {
   "codemirror_mode": {
    "name": "ipython",
    "version": 3
   },
   "file_extension": ".py",
   "mimetype": "text/x-python",
   "name": "python",
   "nbconvert_exporter": "python",
   "pygments_lexer": "ipython3",
   "version": "3.8.5"
  }
 },
 "nbformat": 4,
 "nbformat_minor": 4
}
